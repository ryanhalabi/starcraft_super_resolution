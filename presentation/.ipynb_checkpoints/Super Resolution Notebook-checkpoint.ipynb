{
 "cells": [
  {
   "cell_type": "code",
   "execution_count": null,
   "metadata": {},
   "outputs": [],
   "source": [
    "Super Resolution CNN Networks\n",
    "\n",
    "Goal\n",
    "Turn low resolution images into high resolution."
   ]
  },
  {
   "cell_type": "markdown",
   "metadata": {},
   "source": [
    "History\n",
    "\n",
    "A method previously used to generate high resolution images was the sparse-coding based method.\n",
    "\n",
    "Followed a few steps\n",
    "-Overlapping patches are densely cropped from the input  image  and  pre-processed  (e.g.,subtracting  mean and  normalization).\n",
    "-These  patches  are  then  encoded by  a  low-resolution  dictionary.\n",
    "-The  sparse  coefficients are  passed  into  a  high-resolution  dictionary  for  reconstructing  high-resolution  patches.  \n",
    "-The  overlapping  reconstructed  patches  are  aggregated  (e.g., by  weighted averaging)  to  produce  the  final  output.  \n",
    "\n",
    "\n",
    "This  pipeline  is shared by most external example-based methods, which pay  particular  attention  to  learning  and  optimizing  the dictionaries or  building  efficient  mapping functions.  However,  the  rest  of  the steps  in  the  pipeline  have  been  rarely  optimized  or considered in an unified optimization framework.\n",
    "\n",
    "\n",
    "Modern Approach\n",
    "\n",
    "Construct a Convolutional Neural Network to do all these steps in a unified framework."
   ]
  },
  {
   "attachments": {
    "image.png": {
     "image/png": "[encoded data removed]"
    }
   },
   "cell_type": "markdown",
   "metadata": {},
   "source": [
    "Neural Network\n",
    "![image.png](attachment:image.png)\n",
    "\n",
    "A Neural Network is most simply, a series of collection of nodes and connections between nodes.  Constructed to solve a specific problem.  \n",
    "\n",
    "Typically the left most nodes are your inputs and the right most node is your output.  The connections are simply equations applied its inputs to yield and output.  \n",
    "\n",
    "Most popular is the REctified Linear Unit (RELU activation), but can be any function.\n",
    "\n",
    "![image.png](attachment:image.png)\n",
    "\n",
    "\n",
    "Let's look at a simple example, say we want to build a Neural Network that does the following.\n",
    "-Takes two inputs, `a` and `b`.\n",
    "-Output 1 if  `2*a + b`\n",
    "\n",
    "Pretty simple right?\n"
   ]
  },
  {
   "cell_type": "code",
   "execution_count": null,
   "metadata": {},
   "outputs": [],
   "source": [
    "from tensorflow import keras\n",
    "\n",
    "inputs = keras.layers.Input(shape=(2)) \n",
    "output = keras.activations.linear(inputs, weights = (2,1))\n",
    "\n",
    "model = keras.Model(inputs=inputs, outputs=output)\n",
    "model.compile(keras.optimizers.Adam(), \"mean_squared_error\")"
   ]
  },
  {
   "cell_type": "code",
   "execution_count": null,
   "metadata": {},
   "outputs": [],
   "source": []
  }
 ],
 "metadata": {
  "kernelspec": {
   "display_name": "Python 3",
   "language": "python",
   "name": "python3"
  },
  "language_info": {
   "codemirror_mode": {
    "name": "ipython",
    "version": 3
   },
   "file_extension": ".py",
   "mimetype": "text/x-python",
   "name": "python",
   "nbconvert_exporter": "python",
   "pygments_lexer": "ipython3",
   "version": "3.7.6"
  }
 },
 "nbformat": 4,
 "nbformat_minor": 2
}
